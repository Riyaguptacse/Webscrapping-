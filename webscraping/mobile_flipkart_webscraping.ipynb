{
 "cells": [
  {
   "cell_type": "code",
   "execution_count": 141,
   "metadata": {},
   "outputs": [],
   "source": [
    "# Loading required libraries\n",
    "\n",
    "import numpy as np\n",
    "import pandas as pd\n",
    "import requests\n",
    "from bs4 import BeautifulSoup\n"
   ]
  },
  {
   "cell_type": "code",
   "execution_count": 142,
   "metadata": {},
   "outputs": [],
   "source": [
    "# Scrapping the Web Page\n",
    "\n",
    "title = []\n",
    "rating = []\n",
    "price = []\n",
    "features = []\n",
    "\n",
    "for i in range(1, 21):\n",
    "    URL = 'https://www.flipkart.com/search?q=mobiles&otracker=search&otracker1=search&marketplace=FLIPKART&as-show=on&as=off&page={}'. format(i)\n",
    "    \n",
    "    page = requests.get(URL)\n",
    "    htmlCode = page.text\n",
    "    \n",
    "    soup = BeautifulSoup(htmlCode)\n",
    "    \n",
    "    for x in soup.find_all('div', attrs={'class' : '_2kHMtA'}):\n",
    "\n",
    "        product = x.find('div', attrs={'class' : '_4rR01T'})\n",
    "        if product is None:\n",
    "            title.append(np.NaN)\n",
    "        else:\n",
    "            title.append(product.text)\n",
    "\n",
    "        mrp = x.find('div', attrs={'class' : '_30jeq3 _1_WHN1'})\n",
    "        if mrp is None:\n",
    "            price.append(np.NaN)\n",
    "        else:\n",
    "            price.append(mrp.text)\n",
    "\n",
    "        rate = x.find('div', attrs={'class' : '_3LWZlK'})\n",
    "        if rate is None:\n",
    "            rating.append(np.NaN)\n",
    "        else:\n",
    "            rating.append(rate.text)\n",
    "        \n",
    "        f = x.find('ul', attrs={'class' : '_1xgFaf'})\n",
    "        if f is None:\n",
    "            features.append(np.NaN)\n",
    "        else:\n",
    "            features.append(f.text)"
   ]
  },
  {
   "cell_type": "code",
   "execution_count": 143,
   "metadata": {},
   "outputs": [
    {
     "name": "stdout",
     "output_type": "stream",
     "text": [
      "480\n",
      "480\n",
      "480\n",
      "480\n"
     ]
    }
   ],
   "source": [
    "print(len(title))\n",
    "print(len(price))\n",
    "print(len(rating))\n",
    "print(len(features))"
   ]
  },
  {
   "cell_type": "markdown",
   "metadata": {},
   "source": [
    "## Create a dataframe and save it as CSV file"
   ]
  },
  {
   "cell_type": "code",
   "execution_count": 144,
   "metadata": {},
   "outputs": [
    {
     "data": {
      "text/html": [
       "<div>\n",
       "<style scoped>\n",
       "    .dataframe tbody tr th:only-of-type {\n",
       "        vertical-align: middle;\n",
       "    }\n",
       "\n",
       "    .dataframe tbody tr th {\n",
       "        vertical-align: top;\n",
       "    }\n",
       "\n",
       "    .dataframe thead th {\n",
       "        text-align: right;\n",
       "    }\n",
       "</style>\n",
       "<table border=\"1\" class=\"dataframe\">\n",
       "  <thead>\n",
       "    <tr style=\"text-align: right;\">\n",
       "      <th></th>\n",
       "      <th>Product</th>\n",
       "      <th>Rating</th>\n",
       "      <th>MRP</th>\n",
       "      <th>Feature</th>\n",
       "    </tr>\n",
       "  </thead>\n",
       "  <tbody>\n",
       "    <tr>\n",
       "      <th>0</th>\n",
       "      <td>SAMSUNG Galaxy F13 (Nightsky Green, 64 GB)</td>\n",
       "      <td>4.4</td>\n",
       "      <td>₹9,499</td>\n",
       "      <td>4 GB RAM | 64 GB ROM | Expandable Upto 1 TB16....</td>\n",
       "    </tr>\n",
       "    <tr>\n",
       "      <th>1</th>\n",
       "      <td>SAMSUNG Galaxy F13 (Waterfall Blue, 64 GB)</td>\n",
       "      <td>4.4</td>\n",
       "      <td>₹9,499</td>\n",
       "      <td>4 GB RAM | 64 GB ROM | Expandable Upto 1 TB16....</td>\n",
       "    </tr>\n",
       "    <tr>\n",
       "      <th>2</th>\n",
       "      <td>APPLE iPhone 11 (Black, 128 GB)</td>\n",
       "      <td>4.6</td>\n",
       "      <td>₹41,990</td>\n",
       "      <td>128 GB ROM15.49 cm (6.1 inch) Liquid Retina HD...</td>\n",
       "    </tr>\n",
       "    <tr>\n",
       "      <th>3</th>\n",
       "      <td>IAIR D25</td>\n",
       "      <td>4.1</td>\n",
       "      <td>₹1,098</td>\n",
       "      <td>32 MB RAM | 32 MB ROM4.32 cm (1.7 inch) Displa...</td>\n",
       "    </tr>\n",
       "    <tr>\n",
       "      <th>4</th>\n",
       "      <td>SAMSUNG Galaxy F13 (Sunrise Copper, 64 GB)</td>\n",
       "      <td>4.4</td>\n",
       "      <td>₹9,499</td>\n",
       "      <td>4 GB RAM | 64 GB ROM | Expandable Upto 1 TB16....</td>\n",
       "    </tr>\n",
       "  </tbody>\n",
       "</table>\n",
       "</div>"
      ],
      "text/plain": [
       "                                      Product Rating      MRP  \\\n",
       "0  SAMSUNG Galaxy F13 (Nightsky Green, 64 GB)    4.4   ₹9,499   \n",
       "1  SAMSUNG Galaxy F13 (Waterfall Blue, 64 GB)    4.4   ₹9,499   \n",
       "2             APPLE iPhone 11 (Black, 128 GB)    4.6  ₹41,990   \n",
       "3                                    IAIR D25    4.1   ₹1,098   \n",
       "4  SAMSUNG Galaxy F13 (Sunrise Copper, 64 GB)    4.4   ₹9,499   \n",
       "\n",
       "                                             Feature  \n",
       "0  4 GB RAM | 64 GB ROM | Expandable Upto 1 TB16....  \n",
       "1  4 GB RAM | 64 GB ROM | Expandable Upto 1 TB16....  \n",
       "2  128 GB ROM15.49 cm (6.1 inch) Liquid Retina HD...  \n",
       "3  32 MB RAM | 32 MB ROM4.32 cm (1.7 inch) Displa...  \n",
       "4  4 GB RAM | 64 GB ROM | Expandable Upto 1 TB16....  "
      ]
     },
     "execution_count": 144,
     "metadata": {},
     "output_type": "execute_result"
    }
   ],
   "source": [
    "df = pd.DataFrame({'Product' : title, 'Rating' : rating, 'MRP' : price, 'Feature' : features})\n",
    "df.head()"
   ]
  },
  {
   "cell_type": "code",
   "execution_count": 145,
   "metadata": {},
   "outputs": [
    {
     "data": {
      "text/plain": [
       "(480, 4)"
      ]
     },
     "execution_count": 145,
     "metadata": {},
     "output_type": "execute_result"
    }
   ],
   "source": [
    "df.shape"
   ]
  },
  {
   "cell_type": "code",
   "execution_count": 146,
   "metadata": {},
   "outputs": [
    {
     "data": {
      "text/html": [
       "<div>\n",
       "<style scoped>\n",
       "    .dataframe tbody tr th:only-of-type {\n",
       "        vertical-align: middle;\n",
       "    }\n",
       "\n",
       "    .dataframe tbody tr th {\n",
       "        vertical-align: top;\n",
       "    }\n",
       "\n",
       "    .dataframe thead th {\n",
       "        text-align: right;\n",
       "    }\n",
       "</style>\n",
       "<table border=\"1\" class=\"dataframe\">\n",
       "  <thead>\n",
       "    <tr style=\"text-align: right;\">\n",
       "      <th></th>\n",
       "      <th>Product</th>\n",
       "      <th>Rating</th>\n",
       "      <th>MRP</th>\n",
       "      <th>Feature</th>\n",
       "    </tr>\n",
       "  </thead>\n",
       "  <tbody>\n",
       "    <tr>\n",
       "      <th>475</th>\n",
       "      <td>Tecno Pop 5 LTE (Turquoise Cyan, 32 GB)</td>\n",
       "      <td>4.2</td>\n",
       "      <td>₹6,683</td>\n",
       "      <td>2 GB RAM | 32 GB ROM | Expandable Upto 256 GB1...</td>\n",
       "    </tr>\n",
       "    <tr>\n",
       "      <th>476</th>\n",
       "      <td>SAMSUNG M53 5G (Emerald Brown, 128 GB)</td>\n",
       "      <td>4.6</td>\n",
       "      <td>₹25,900</td>\n",
       "      <td>8 GB RAM | 128 GB ROM17.02 cm (6.7 inch) Displ...</td>\n",
       "    </tr>\n",
       "    <tr>\n",
       "      <th>477</th>\n",
       "      <td>vivo V25 Pro 5G (Pure Black, 128 GB)</td>\n",
       "      <td>4.4</td>\n",
       "      <td>₹35,999</td>\n",
       "      <td>8 GB RAM | 128 GB ROM16.66 cm (6.56 inch) Full...</td>\n",
       "    </tr>\n",
       "    <tr>\n",
       "      <th>478</th>\n",
       "      <td>vivo V25 Pro 5G (Pure Black, 256 GB)</td>\n",
       "      <td>4.4</td>\n",
       "      <td>₹39,999</td>\n",
       "      <td>12 GB RAM | 256 GB ROM16.66 cm (6.56 inch) Ful...</td>\n",
       "    </tr>\n",
       "    <tr>\n",
       "      <th>479</th>\n",
       "      <td>OPPO F19 Pro (Crystal Silver, 256 GB)</td>\n",
       "      <td>4.3</td>\n",
       "      <td>₹18,990</td>\n",
       "      <td>8 GB RAM | 256 GB ROM | Expandable Upto 256 GB...</td>\n",
       "    </tr>\n",
       "  </tbody>\n",
       "</table>\n",
       "</div>"
      ],
      "text/plain": [
       "                                     Product Rating      MRP  \\\n",
       "475  Tecno Pop 5 LTE (Turquoise Cyan, 32 GB)    4.2   ₹6,683   \n",
       "476   SAMSUNG M53 5G (Emerald Brown, 128 GB)    4.6  ₹25,900   \n",
       "477     vivo V25 Pro 5G (Pure Black, 128 GB)    4.4  ₹35,999   \n",
       "478     vivo V25 Pro 5G (Pure Black, 256 GB)    4.4  ₹39,999   \n",
       "479    OPPO F19 Pro (Crystal Silver, 256 GB)    4.3  ₹18,990   \n",
       "\n",
       "                                               Feature  \n",
       "475  2 GB RAM | 32 GB ROM | Expandable Upto 256 GB1...  \n",
       "476  8 GB RAM | 128 GB ROM17.02 cm (6.7 inch) Displ...  \n",
       "477  8 GB RAM | 128 GB ROM16.66 cm (6.56 inch) Full...  \n",
       "478  12 GB RAM | 256 GB ROM16.66 cm (6.56 inch) Ful...  \n",
       "479  8 GB RAM | 256 GB ROM | Expandable Upto 256 GB...  "
      ]
     },
     "execution_count": 146,
     "metadata": {},
     "output_type": "execute_result"
    }
   ],
   "source": [
    "df.tail()"
   ]
  },
  {
   "cell_type": "code",
   "execution_count": 147,
   "metadata": {},
   "outputs": [
    {
     "name": "stdout",
     "output_type": "stream",
     "text": [
      "<class 'pandas.core.frame.DataFrame'>\n",
      "RangeIndex: 480 entries, 0 to 479\n",
      "Data columns (total 4 columns):\n",
      " #   Column   Non-Null Count  Dtype \n",
      "---  ------   --------------  ----- \n",
      " 0   Product  480 non-null    object\n",
      " 1   Rating   475 non-null    object\n",
      " 2   MRP      480 non-null    object\n",
      " 3   Feature  480 non-null    object\n",
      "dtypes: object(4)\n",
      "memory usage: 15.1+ KB\n"
     ]
    }
   ],
   "source": [
    "df.info()"
   ]
  },
  {
   "cell_type": "code",
   "execution_count": 148,
   "metadata": {},
   "outputs": [
    {
     "data": {
      "text/plain": [
       "Product    0\n",
       "Rating     5\n",
       "MRP        0\n",
       "Feature    0\n",
       "dtype: int64"
      ]
     },
     "execution_count": 148,
     "metadata": {},
     "output_type": "execute_result"
    }
   ],
   "source": [
    "# Missing Values\n",
    "\n",
    "df.isnull().sum()"
   ]
  },
  {
   "cell_type": "code",
   "execution_count": 149,
   "metadata": {},
   "outputs": [],
   "source": [
    "df.to_csv('Mobiles_Details.csv', index = False)"
   ]
  },
  {
   "cell_type": "code",
   "execution_count": 150,
   "metadata": {},
   "outputs": [],
   "source": [
    "df.to_csv('temp.csv')"
   ]
  },
  {
   "cell_type": "markdown",
   "metadata": {},
   "source": [
    "## Extracting the Details using Regex"
   ]
  },
  {
   "cell_type": "code",
   "execution_count": 151,
   "metadata": {},
   "outputs": [],
   "source": [
    "\n",
    "import numpy as np\n",
    "import pandas as pd\n",
    "\n",
    "import re\n"
   ]
  },
  {
   "cell_type": "code",
   "execution_count": 152,
   "metadata": {},
   "outputs": [
    {
     "data": {
      "text/html": [
       "<div>\n",
       "<style scoped>\n",
       "    .dataframe tbody tr th:only-of-type {\n",
       "        vertical-align: middle;\n",
       "    }\n",
       "\n",
       "    .dataframe tbody tr th {\n",
       "        vertical-align: top;\n",
       "    }\n",
       "\n",
       "    .dataframe thead th {\n",
       "        text-align: right;\n",
       "    }\n",
       "</style>\n",
       "<table border=\"1\" class=\"dataframe\">\n",
       "  <thead>\n",
       "    <tr style=\"text-align: right;\">\n",
       "      <th></th>\n",
       "      <th>Product</th>\n",
       "      <th>Rating</th>\n",
       "      <th>MRP</th>\n",
       "      <th>Feature</th>\n",
       "    </tr>\n",
       "  </thead>\n",
       "  <tbody>\n",
       "    <tr>\n",
       "      <th>0</th>\n",
       "      <td>SAMSUNG Galaxy F13 (Nightsky Green, 64 GB)</td>\n",
       "      <td>4.4</td>\n",
       "      <td>₹9,499</td>\n",
       "      <td>4 GB RAM | 64 GB ROM | Expandable Upto 1 TB16....</td>\n",
       "    </tr>\n",
       "    <tr>\n",
       "      <th>1</th>\n",
       "      <td>SAMSUNG Galaxy F13 (Waterfall Blue, 64 GB)</td>\n",
       "      <td>4.4</td>\n",
       "      <td>₹9,499</td>\n",
       "      <td>4 GB RAM | 64 GB ROM | Expandable Upto 1 TB16....</td>\n",
       "    </tr>\n",
       "    <tr>\n",
       "      <th>2</th>\n",
       "      <td>APPLE iPhone 11 (Black, 128 GB)</td>\n",
       "      <td>4.6</td>\n",
       "      <td>₹41,990</td>\n",
       "      <td>128 GB ROM15.49 cm (6.1 inch) Liquid Retina HD...</td>\n",
       "    </tr>\n",
       "    <tr>\n",
       "      <th>3</th>\n",
       "      <td>IAIR D25</td>\n",
       "      <td>4.1</td>\n",
       "      <td>₹1,098</td>\n",
       "      <td>32 MB RAM | 32 MB ROM4.32 cm (1.7 inch) Displa...</td>\n",
       "    </tr>\n",
       "    <tr>\n",
       "      <th>4</th>\n",
       "      <td>SAMSUNG Galaxy F13 (Sunrise Copper, 64 GB)</td>\n",
       "      <td>4.4</td>\n",
       "      <td>₹9,499</td>\n",
       "      <td>4 GB RAM | 64 GB ROM | Expandable Upto 1 TB16....</td>\n",
       "    </tr>\n",
       "  </tbody>\n",
       "</table>\n",
       "</div>"
      ],
      "text/plain": [
       "                                      Product  Rating      MRP  \\\n",
       "0  SAMSUNG Galaxy F13 (Nightsky Green, 64 GB)     4.4   ₹9,499   \n",
       "1  SAMSUNG Galaxy F13 (Waterfall Blue, 64 GB)     4.4   ₹9,499   \n",
       "2             APPLE iPhone 11 (Black, 128 GB)     4.6  ₹41,990   \n",
       "3                                    IAIR D25     4.1   ₹1,098   \n",
       "4  SAMSUNG Galaxy F13 (Sunrise Copper, 64 GB)     4.4   ₹9,499   \n",
       "\n",
       "                                             Feature  \n",
       "0  4 GB RAM | 64 GB ROM | Expandable Upto 1 TB16....  \n",
       "1  4 GB RAM | 64 GB ROM | Expandable Upto 1 TB16....  \n",
       "2  128 GB ROM15.49 cm (6.1 inch) Liquid Retina HD...  \n",
       "3  32 MB RAM | 32 MB ROM4.32 cm (1.7 inch) Displa...  \n",
       "4  4 GB RAM | 64 GB ROM | Expandable Upto 1 TB16....  "
      ]
     },
     "execution_count": 152,
     "metadata": {},
     "output_type": "execute_result"
    }
   ],
   "source": [
    "df = pd.read_csv(\"Mobiles_Details.csv\")\n",
    "\n",
    "df.head()"
   ]
  },
  {
   "cell_type": "code",
   "execution_count": 153,
   "metadata": {},
   "outputs": [
    {
     "name": "stdout",
     "output_type": "stream",
     "text": [
      "4 GB RAM | 64 GB ROM | Expandable Upto 1 TB16.76 cm (6.6 inch) Full HD+ Display50MP + 5MP + 2MP | 8MP Front Camera6000 mAh Lithium Ion BatteryExynos 850 Processor1 Year Warranty Provided By the Manufacturer from Date of Purchase\n",
      "128 GB ROM15.49 cm (6.1 inch) Liquid Retina HD Display12MP + 12MP | 12MP Front CameraA13 Bionic Chip ProcessorBrand Warranty of 1 Year\n",
      "3 GB RAM | 32 GB ROM | Expandable Upto 512 GB16.59 cm (6.53 inch) HD+ Display13MP + 2MP + 2MP | 5MP Front Camera5000 mAh Lithium-ion Polymer BatteryMediaTek Helio G35 Processor1 Year Warranty for Handset, 6 Months for Accessories\n"
     ]
    }
   ],
   "source": [
    "print(df['Feature'][0])\n",
    "print(df['Feature'][2])\n",
    "print(df['Feature'][6])"
   ]
  },
  {
   "cell_type": "code",
   "execution_count": 154,
   "metadata": {},
   "outputs": [
    {
     "name": "stdout",
     "output_type": "stream",
     "text": [
      "16\n"
     ]
    }
   ],
   "source": [
    "sq = lambda x : x**2\n",
    "print(sq(4))"
   ]
  },
  {
   "cell_type": "code",
   "execution_count": 155,
   "metadata": {},
   "outputs": [
    {
     "data": {
      "text/html": [
       "<div>\n",
       "<style scoped>\n",
       "    .dataframe tbody tr th:only-of-type {\n",
       "        vertical-align: middle;\n",
       "    }\n",
       "\n",
       "    .dataframe tbody tr th {\n",
       "        vertical-align: top;\n",
       "    }\n",
       "\n",
       "    .dataframe thead th {\n",
       "        text-align: right;\n",
       "    }\n",
       "</style>\n",
       "<table border=\"1\" class=\"dataframe\">\n",
       "  <thead>\n",
       "    <tr style=\"text-align: right;\">\n",
       "      <th></th>\n",
       "      <th>Product</th>\n",
       "      <th>Rating</th>\n",
       "      <th>MRP</th>\n",
       "      <th>Feature</th>\n",
       "    </tr>\n",
       "  </thead>\n",
       "  <tbody>\n",
       "    <tr>\n",
       "      <th>0</th>\n",
       "      <td>SAMSUNG Galaxy F13 (Nightsky Green, 64 GB)</td>\n",
       "      <td>4.4</td>\n",
       "      <td>₹9,499</td>\n",
       "      <td>4 GB RAM | 64 GB ROM | Expandable Upto 1 TB16....</td>\n",
       "    </tr>\n",
       "    <tr>\n",
       "      <th>1</th>\n",
       "      <td>SAMSUNG Galaxy F13 (Waterfall Blue, 64 GB)</td>\n",
       "      <td>4.4</td>\n",
       "      <td>₹9,499</td>\n",
       "      <td>4 GB RAM | 64 GB ROM | Expandable Upto 1 TB16....</td>\n",
       "    </tr>\n",
       "    <tr>\n",
       "      <th>2</th>\n",
       "      <td>APPLE iPhone 11 (Black, 128 GB)</td>\n",
       "      <td>4.6</td>\n",
       "      <td>₹41,990</td>\n",
       "      <td>128 GB ROM15.49 cm (6.1 inch) Liquid Retina HD...</td>\n",
       "    </tr>\n",
       "    <tr>\n",
       "      <th>3</th>\n",
       "      <td>IAIR D25</td>\n",
       "      <td>4.1</td>\n",
       "      <td>₹1,098</td>\n",
       "      <td>32 MB RAM | 32 MB ROM4.32 cm (1.7 inch) Displa...</td>\n",
       "    </tr>\n",
       "    <tr>\n",
       "      <th>4</th>\n",
       "      <td>SAMSUNG Galaxy F13 (Sunrise Copper, 64 GB)</td>\n",
       "      <td>4.4</td>\n",
       "      <td>₹9,499</td>\n",
       "      <td>4 GB RAM | 64 GB ROM | Expandable Upto 1 TB16....</td>\n",
       "    </tr>\n",
       "  </tbody>\n",
       "</table>\n",
       "</div>"
      ],
      "text/plain": [
       "                                      Product  Rating      MRP  \\\n",
       "0  SAMSUNG Galaxy F13 (Nightsky Green, 64 GB)     4.4   ₹9,499   \n",
       "1  SAMSUNG Galaxy F13 (Waterfall Blue, 64 GB)     4.4   ₹9,499   \n",
       "2             APPLE iPhone 11 (Black, 128 GB)     4.6  ₹41,990   \n",
       "3                                    IAIR D25     4.1   ₹1,098   \n",
       "4  SAMSUNG Galaxy F13 (Sunrise Copper, 64 GB)     4.4   ₹9,499   \n",
       "\n",
       "                                             Feature  \n",
       "0  4 GB RAM | 64 GB ROM | Expandable Upto 1 TB16....  \n",
       "1  4 GB RAM | 64 GB ROM | Expandable Upto 1 TB16....  \n",
       "2  128 GB ROM15.49 cm (6.1 inch) Liquid Retina HD...  \n",
       "3  32 MB RAM | 32 MB ROM4.32 cm (1.7 inch) Displa...  \n",
       "4  4 GB RAM | 64 GB ROM | Expandable Upto 1 TB16....  "
      ]
     },
     "execution_count": 155,
     "metadata": {},
     "output_type": "execute_result"
    }
   ],
   "source": [
    "df.head()"
   ]
  },
  {
   "cell_type": "code",
   "execution_count": 156,
   "metadata": {},
   "outputs": [
    {
     "data": {
      "text/html": [
       "<div>\n",
       "<style scoped>\n",
       "    .dataframe tbody tr th:only-of-type {\n",
       "        vertical-align: middle;\n",
       "    }\n",
       "\n",
       "    .dataframe tbody tr th {\n",
       "        vertical-align: top;\n",
       "    }\n",
       "\n",
       "    .dataframe thead th {\n",
       "        text-align: right;\n",
       "    }\n",
       "</style>\n",
       "<table border=\"1\" class=\"dataframe\">\n",
       "  <thead>\n",
       "    <tr style=\"text-align: right;\">\n",
       "      <th></th>\n",
       "      <th>Product</th>\n",
       "      <th>Rating</th>\n",
       "      <th>MRP</th>\n",
       "      <th>Feature</th>\n",
       "      <th>RAM</th>\n",
       "    </tr>\n",
       "  </thead>\n",
       "  <tbody>\n",
       "    <tr>\n",
       "      <th>0</th>\n",
       "      <td>SAMSUNG Galaxy F13 (Nightsky Green, 64 GB)</td>\n",
       "      <td>4.4</td>\n",
       "      <td>₹9,499</td>\n",
       "      <td>4 GB RAM | 64 GB ROM | Expandable Upto 1 TB16....</td>\n",
       "      <td>[4 GB RAM]</td>\n",
       "    </tr>\n",
       "    <tr>\n",
       "      <th>1</th>\n",
       "      <td>SAMSUNG Galaxy F13 (Waterfall Blue, 64 GB)</td>\n",
       "      <td>4.4</td>\n",
       "      <td>₹9,499</td>\n",
       "      <td>4 GB RAM | 64 GB ROM | Expandable Upto 1 TB16....</td>\n",
       "      <td>[4 GB RAM]</td>\n",
       "    </tr>\n",
       "    <tr>\n",
       "      <th>2</th>\n",
       "      <td>APPLE iPhone 11 (Black, 128 GB)</td>\n",
       "      <td>4.6</td>\n",
       "      <td>₹41,990</td>\n",
       "      <td>128 GB ROM15.49 cm (6.1 inch) Liquid Retina HD...</td>\n",
       "      <td>[]</td>\n",
       "    </tr>\n",
       "    <tr>\n",
       "      <th>3</th>\n",
       "      <td>IAIR D25</td>\n",
       "      <td>4.1</td>\n",
       "      <td>₹1,098</td>\n",
       "      <td>32 MB RAM | 32 MB ROM4.32 cm (1.7 inch) Displa...</td>\n",
       "      <td>[32 MB RAM]</td>\n",
       "    </tr>\n",
       "    <tr>\n",
       "      <th>4</th>\n",
       "      <td>SAMSUNG Galaxy F13 (Sunrise Copper, 64 GB)</td>\n",
       "      <td>4.4</td>\n",
       "      <td>₹9,499</td>\n",
       "      <td>4 GB RAM | 64 GB ROM | Expandable Upto 1 TB16....</td>\n",
       "      <td>[4 GB RAM]</td>\n",
       "    </tr>\n",
       "  </tbody>\n",
       "</table>\n",
       "</div>"
      ],
      "text/plain": [
       "                                      Product  Rating      MRP  \\\n",
       "0  SAMSUNG Galaxy F13 (Nightsky Green, 64 GB)     4.4   ₹9,499   \n",
       "1  SAMSUNG Galaxy F13 (Waterfall Blue, 64 GB)     4.4   ₹9,499   \n",
       "2             APPLE iPhone 11 (Black, 128 GB)     4.6  ₹41,990   \n",
       "3                                    IAIR D25     4.1   ₹1,098   \n",
       "4  SAMSUNG Galaxy F13 (Sunrise Copper, 64 GB)     4.4   ₹9,499   \n",
       "\n",
       "                                             Feature          RAM  \n",
       "0  4 GB RAM | 64 GB ROM | Expandable Upto 1 TB16....   [4 GB RAM]  \n",
       "1  4 GB RAM | 64 GB ROM | Expandable Upto 1 TB16....   [4 GB RAM]  \n",
       "2  128 GB ROM15.49 cm (6.1 inch) Liquid Retina HD...           []  \n",
       "3  32 MB RAM | 32 MB ROM4.32 cm (1.7 inch) Displa...  [32 MB RAM]  \n",
       "4  4 GB RAM | 64 GB ROM | Expandable Upto 1 TB16....   [4 GB RAM]  "
      ]
     },
     "execution_count": 156,
     "metadata": {},
     "output_type": "execute_result"
    }
   ],
   "source": [
    "# RAM Information\n",
    "regex = r'\\d+\\s(?:GB|MB)[\\s\\w]+RAM'\n",
    "\n",
    "df['RAM'] = df['Feature'].apply(lambda x : re.findall(regex, str(x)))\n",
    "df.head()"
   ]
  },
  {
   "cell_type": "code",
   "execution_count": 157,
   "metadata": {},
   "outputs": [
    {
     "data": {
      "text/html": [
       "<div>\n",
       "<style scoped>\n",
       "    .dataframe tbody tr th:only-of-type {\n",
       "        vertical-align: middle;\n",
       "    }\n",
       "\n",
       "    .dataframe tbody tr th {\n",
       "        vertical-align: top;\n",
       "    }\n",
       "\n",
       "    .dataframe thead th {\n",
       "        text-align: right;\n",
       "    }\n",
       "</style>\n",
       "<table border=\"1\" class=\"dataframe\">\n",
       "  <thead>\n",
       "    <tr style=\"text-align: right;\">\n",
       "      <th></th>\n",
       "      <th>Product</th>\n",
       "      <th>Rating</th>\n",
       "      <th>MRP</th>\n",
       "      <th>Feature</th>\n",
       "      <th>RAM</th>\n",
       "      <th>ROM</th>\n",
       "    </tr>\n",
       "  </thead>\n",
       "  <tbody>\n",
       "    <tr>\n",
       "      <th>0</th>\n",
       "      <td>SAMSUNG Galaxy F13 (Nightsky Green, 64 GB)</td>\n",
       "      <td>4.4</td>\n",
       "      <td>₹9,499</td>\n",
       "      <td>4 GB RAM | 64 GB ROM | Expandable Upto 1 TB16....</td>\n",
       "      <td>[4 GB RAM]</td>\n",
       "      <td>[64 GB ROM]</td>\n",
       "    </tr>\n",
       "    <tr>\n",
       "      <th>1</th>\n",
       "      <td>SAMSUNG Galaxy F13 (Waterfall Blue, 64 GB)</td>\n",
       "      <td>4.4</td>\n",
       "      <td>₹9,499</td>\n",
       "      <td>4 GB RAM | 64 GB ROM | Expandable Upto 1 TB16....</td>\n",
       "      <td>[4 GB RAM]</td>\n",
       "      <td>[64 GB ROM]</td>\n",
       "    </tr>\n",
       "    <tr>\n",
       "      <th>2</th>\n",
       "      <td>APPLE iPhone 11 (Black, 128 GB)</td>\n",
       "      <td>4.6</td>\n",
       "      <td>₹41,990</td>\n",
       "      <td>128 GB ROM15.49 cm (6.1 inch) Liquid Retina HD...</td>\n",
       "      <td>[]</td>\n",
       "      <td>[128 GB ROM]</td>\n",
       "    </tr>\n",
       "    <tr>\n",
       "      <th>3</th>\n",
       "      <td>IAIR D25</td>\n",
       "      <td>4.1</td>\n",
       "      <td>₹1,098</td>\n",
       "      <td>32 MB RAM | 32 MB ROM4.32 cm (1.7 inch) Displa...</td>\n",
       "      <td>[32 MB RAM]</td>\n",
       "      <td>[32 MB ROM]</td>\n",
       "    </tr>\n",
       "    <tr>\n",
       "      <th>4</th>\n",
       "      <td>SAMSUNG Galaxy F13 (Sunrise Copper, 64 GB)</td>\n",
       "      <td>4.4</td>\n",
       "      <td>₹9,499</td>\n",
       "      <td>4 GB RAM | 64 GB ROM | Expandable Upto 1 TB16....</td>\n",
       "      <td>[4 GB RAM]</td>\n",
       "      <td>[64 GB ROM]</td>\n",
       "    </tr>\n",
       "  </tbody>\n",
       "</table>\n",
       "</div>"
      ],
      "text/plain": [
       "                                      Product  Rating      MRP  \\\n",
       "0  SAMSUNG Galaxy F13 (Nightsky Green, 64 GB)     4.4   ₹9,499   \n",
       "1  SAMSUNG Galaxy F13 (Waterfall Blue, 64 GB)     4.4   ₹9,499   \n",
       "2             APPLE iPhone 11 (Black, 128 GB)     4.6  ₹41,990   \n",
       "3                                    IAIR D25     4.1   ₹1,098   \n",
       "4  SAMSUNG Galaxy F13 (Sunrise Copper, 64 GB)     4.4   ₹9,499   \n",
       "\n",
       "                                             Feature          RAM  \\\n",
       "0  4 GB RAM | 64 GB ROM | Expandable Upto 1 TB16....   [4 GB RAM]   \n",
       "1  4 GB RAM | 64 GB ROM | Expandable Upto 1 TB16....   [4 GB RAM]   \n",
       "2  128 GB ROM15.49 cm (6.1 inch) Liquid Retina HD...           []   \n",
       "3  32 MB RAM | 32 MB ROM4.32 cm (1.7 inch) Displa...  [32 MB RAM]   \n",
       "4  4 GB RAM | 64 GB ROM | Expandable Upto 1 TB16....   [4 GB RAM]   \n",
       "\n",
       "            ROM  \n",
       "0   [64 GB ROM]  \n",
       "1   [64 GB ROM]  \n",
       "2  [128 GB ROM]  \n",
       "3   [32 MB ROM]  \n",
       "4   [64 GB ROM]  "
      ]
     },
     "execution_count": 157,
     "metadata": {},
     "output_type": "execute_result"
    }
   ],
   "source": [
    "# R0M Information\n",
    "regex = r'\\d+\\s(?:GB|MB)[\\s\\w]+ROM'\n",
    "\n",
    "df['ROM'] = df['Feature'].apply(lambda x : re.findall(regex, str(x)))\n",
    "df.head()"
   ]
  },
  {
   "cell_type": "code",
   "execution_count": 158,
   "metadata": {},
   "outputs": [
    {
     "data": {
      "text/html": [
       "<div>\n",
       "<style scoped>\n",
       "    .dataframe tbody tr th:only-of-type {\n",
       "        vertical-align: middle;\n",
       "    }\n",
       "\n",
       "    .dataframe tbody tr th {\n",
       "        vertical-align: top;\n",
       "    }\n",
       "\n",
       "    .dataframe thead th {\n",
       "        text-align: right;\n",
       "    }\n",
       "</style>\n",
       "<table border=\"1\" class=\"dataframe\">\n",
       "  <thead>\n",
       "    <tr style=\"text-align: right;\">\n",
       "      <th></th>\n",
       "      <th>Product</th>\n",
       "      <th>Rating</th>\n",
       "      <th>MRP</th>\n",
       "      <th>Feature</th>\n",
       "      <th>RAM</th>\n",
       "      <th>ROM</th>\n",
       "      <th>Expandable</th>\n",
       "    </tr>\n",
       "  </thead>\n",
       "  <tbody>\n",
       "    <tr>\n",
       "      <th>0</th>\n",
       "      <td>SAMSUNG Galaxy F13 (Nightsky Green, 64 GB)</td>\n",
       "      <td>4.4</td>\n",
       "      <td>₹9,499</td>\n",
       "      <td>4 GB RAM | 64 GB ROM | Expandable Upto 1 TB16....</td>\n",
       "      <td>[4 GB RAM]</td>\n",
       "      <td>[64 GB ROM]</td>\n",
       "      <td>[Expandable Upto 1 TB]</td>\n",
       "    </tr>\n",
       "    <tr>\n",
       "      <th>1</th>\n",
       "      <td>SAMSUNG Galaxy F13 (Waterfall Blue, 64 GB)</td>\n",
       "      <td>4.4</td>\n",
       "      <td>₹9,499</td>\n",
       "      <td>4 GB RAM | 64 GB ROM | Expandable Upto 1 TB16....</td>\n",
       "      <td>[4 GB RAM]</td>\n",
       "      <td>[64 GB ROM]</td>\n",
       "      <td>[Expandable Upto 1 TB]</td>\n",
       "    </tr>\n",
       "    <tr>\n",
       "      <th>2</th>\n",
       "      <td>APPLE iPhone 11 (Black, 128 GB)</td>\n",
       "      <td>4.6</td>\n",
       "      <td>₹41,990</td>\n",
       "      <td>128 GB ROM15.49 cm (6.1 inch) Liquid Retina HD...</td>\n",
       "      <td>[]</td>\n",
       "      <td>[128 GB ROM]</td>\n",
       "      <td>[]</td>\n",
       "    </tr>\n",
       "    <tr>\n",
       "      <th>3</th>\n",
       "      <td>IAIR D25</td>\n",
       "      <td>4.1</td>\n",
       "      <td>₹1,098</td>\n",
       "      <td>32 MB RAM | 32 MB ROM4.32 cm (1.7 inch) Displa...</td>\n",
       "      <td>[32 MB RAM]</td>\n",
       "      <td>[32 MB ROM]</td>\n",
       "      <td>[]</td>\n",
       "    </tr>\n",
       "    <tr>\n",
       "      <th>4</th>\n",
       "      <td>SAMSUNG Galaxy F13 (Sunrise Copper, 64 GB)</td>\n",
       "      <td>4.4</td>\n",
       "      <td>₹9,499</td>\n",
       "      <td>4 GB RAM | 64 GB ROM | Expandable Upto 1 TB16....</td>\n",
       "      <td>[4 GB RAM]</td>\n",
       "      <td>[64 GB ROM]</td>\n",
       "      <td>[Expandable Upto 1 TB]</td>\n",
       "    </tr>\n",
       "  </tbody>\n",
       "</table>\n",
       "</div>"
      ],
      "text/plain": [
       "                                      Product  Rating      MRP  \\\n",
       "0  SAMSUNG Galaxy F13 (Nightsky Green, 64 GB)     4.4   ₹9,499   \n",
       "1  SAMSUNG Galaxy F13 (Waterfall Blue, 64 GB)     4.4   ₹9,499   \n",
       "2             APPLE iPhone 11 (Black, 128 GB)     4.6  ₹41,990   \n",
       "3                                    IAIR D25     4.1   ₹1,098   \n",
       "4  SAMSUNG Galaxy F13 (Sunrise Copper, 64 GB)     4.4   ₹9,499   \n",
       "\n",
       "                                             Feature          RAM  \\\n",
       "0  4 GB RAM | 64 GB ROM | Expandable Upto 1 TB16....   [4 GB RAM]   \n",
       "1  4 GB RAM | 64 GB ROM | Expandable Upto 1 TB16....   [4 GB RAM]   \n",
       "2  128 GB ROM15.49 cm (6.1 inch) Liquid Retina HD...           []   \n",
       "3  32 MB RAM | 32 MB ROM4.32 cm (1.7 inch) Displa...  [32 MB RAM]   \n",
       "4  4 GB RAM | 64 GB ROM | Expandable Upto 1 TB16....   [4 GB RAM]   \n",
       "\n",
       "            ROM              Expandable  \n",
       "0   [64 GB ROM]  [Expandable Upto 1 TB]  \n",
       "1   [64 GB ROM]  [Expandable Upto 1 TB]  \n",
       "2  [128 GB ROM]                      []  \n",
       "3   [32 MB ROM]                      []  \n",
       "4   [64 GB ROM]  [Expandable Upto 1 TB]  "
      ]
     },
     "execution_count": 158,
     "metadata": {},
     "output_type": "execute_result"
    }
   ],
   "source": [
    "#Expandable upto\n",
    "regex= r'Expandable Upto+\\s+\\d+\\s(?:TB|GB)'\n",
    "df['Expandable'] = df['Feature'].apply(lambda x : re.findall(regex, str(x)))\n",
    "df.head()"
   ]
  },
  {
   "cell_type": "markdown",
   "metadata": {},
   "source": [
    "4 GB RAM | 64 GB ROM | Expandable Upto 1 TB16.76 cm (6.6 inch) Full HD+ Display50MP + 5MP + 2MP | 8MP Front Camera6000 mAh Lithium Ion BatteryExynos 850 Processor1 Year Warranty Provided By the Manufacturer from Date of Purchase\n"
   ]
  },
  {
   "cell_type": "code",
   "execution_count": 159,
   "metadata": {},
   "outputs": [
    {
     "data": {
      "text/html": [
       "<div>\n",
       "<style scoped>\n",
       "    .dataframe tbody tr th:only-of-type {\n",
       "        vertical-align: middle;\n",
       "    }\n",
       "\n",
       "    .dataframe tbody tr th {\n",
       "        vertical-align: top;\n",
       "    }\n",
       "\n",
       "    .dataframe thead th {\n",
       "        text-align: right;\n",
       "    }\n",
       "</style>\n",
       "<table border=\"1\" class=\"dataframe\">\n",
       "  <thead>\n",
       "    <tr style=\"text-align: right;\">\n",
       "      <th></th>\n",
       "      <th>Product</th>\n",
       "      <th>Rating</th>\n",
       "      <th>MRP</th>\n",
       "      <th>Feature</th>\n",
       "      <th>RAM</th>\n",
       "      <th>ROM</th>\n",
       "      <th>Expandable</th>\n",
       "      <th>Camera</th>\n",
       "    </tr>\n",
       "  </thead>\n",
       "  <tbody>\n",
       "    <tr>\n",
       "      <th>0</th>\n",
       "      <td>SAMSUNG Galaxy F13 (Nightsky Green, 64 GB)</td>\n",
       "      <td>4.4</td>\n",
       "      <td>₹9,499</td>\n",
       "      <td>4 GB RAM | 64 GB ROM | Expandable Upto 1 TB16....</td>\n",
       "      <td>[4 GB RAM]</td>\n",
       "      <td>[64 GB ROM]</td>\n",
       "      <td>[Expandable Upto 1 TB]</td>\n",
       "      <td>[50MP, 5MP, 2MP, 8MP]</td>\n",
       "    </tr>\n",
       "    <tr>\n",
       "      <th>1</th>\n",
       "      <td>SAMSUNG Galaxy F13 (Waterfall Blue, 64 GB)</td>\n",
       "      <td>4.4</td>\n",
       "      <td>₹9,499</td>\n",
       "      <td>4 GB RAM | 64 GB ROM | Expandable Upto 1 TB16....</td>\n",
       "      <td>[4 GB RAM]</td>\n",
       "      <td>[64 GB ROM]</td>\n",
       "      <td>[Expandable Upto 1 TB]</td>\n",
       "      <td>[50MP, 5MP, 2MP, 8MP]</td>\n",
       "    </tr>\n",
       "    <tr>\n",
       "      <th>2</th>\n",
       "      <td>APPLE iPhone 11 (Black, 128 GB)</td>\n",
       "      <td>4.6</td>\n",
       "      <td>₹41,990</td>\n",
       "      <td>128 GB ROM15.49 cm (6.1 inch) Liquid Retina HD...</td>\n",
       "      <td>[]</td>\n",
       "      <td>[128 GB ROM]</td>\n",
       "      <td>[]</td>\n",
       "      <td>[12MP, 12MP, 12MP]</td>\n",
       "    </tr>\n",
       "    <tr>\n",
       "      <th>3</th>\n",
       "      <td>IAIR D25</td>\n",
       "      <td>4.1</td>\n",
       "      <td>₹1,098</td>\n",
       "      <td>32 MB RAM | 32 MB ROM4.32 cm (1.7 inch) Displa...</td>\n",
       "      <td>[32 MB RAM]</td>\n",
       "      <td>[32 MB ROM]</td>\n",
       "      <td>[]</td>\n",
       "      <td>[8MP]</td>\n",
       "    </tr>\n",
       "    <tr>\n",
       "      <th>4</th>\n",
       "      <td>SAMSUNG Galaxy F13 (Sunrise Copper, 64 GB)</td>\n",
       "      <td>4.4</td>\n",
       "      <td>₹9,499</td>\n",
       "      <td>4 GB RAM | 64 GB ROM | Expandable Upto 1 TB16....</td>\n",
       "      <td>[4 GB RAM]</td>\n",
       "      <td>[64 GB ROM]</td>\n",
       "      <td>[Expandable Upto 1 TB]</td>\n",
       "      <td>[50MP, 5MP, 2MP, 8MP]</td>\n",
       "    </tr>\n",
       "  </tbody>\n",
       "</table>\n",
       "</div>"
      ],
      "text/plain": [
       "                                      Product  Rating      MRP  \\\n",
       "0  SAMSUNG Galaxy F13 (Nightsky Green, 64 GB)     4.4   ₹9,499   \n",
       "1  SAMSUNG Galaxy F13 (Waterfall Blue, 64 GB)     4.4   ₹9,499   \n",
       "2             APPLE iPhone 11 (Black, 128 GB)     4.6  ₹41,990   \n",
       "3                                    IAIR D25     4.1   ₹1,098   \n",
       "4  SAMSUNG Galaxy F13 (Sunrise Copper, 64 GB)     4.4   ₹9,499   \n",
       "\n",
       "                                             Feature          RAM  \\\n",
       "0  4 GB RAM | 64 GB ROM | Expandable Upto 1 TB16....   [4 GB RAM]   \n",
       "1  4 GB RAM | 64 GB ROM | Expandable Upto 1 TB16....   [4 GB RAM]   \n",
       "2  128 GB ROM15.49 cm (6.1 inch) Liquid Retina HD...           []   \n",
       "3  32 MB RAM | 32 MB ROM4.32 cm (1.7 inch) Displa...  [32 MB RAM]   \n",
       "4  4 GB RAM | 64 GB ROM | Expandable Upto 1 TB16....   [4 GB RAM]   \n",
       "\n",
       "            ROM              Expandable                 Camera  \n",
       "0   [64 GB ROM]  [Expandable Upto 1 TB]  [50MP, 5MP, 2MP, 8MP]  \n",
       "1   [64 GB ROM]  [Expandable Upto 1 TB]  [50MP, 5MP, 2MP, 8MP]  \n",
       "2  [128 GB ROM]                      []     [12MP, 12MP, 12MP]  \n",
       "3   [32 MB ROM]                      []                  [8MP]  \n",
       "4   [64 GB ROM]  [Expandable Upto 1 TB]  [50MP, 5MP, 2MP, 8MP]  "
      ]
     },
     "execution_count": 159,
     "metadata": {},
     "output_type": "execute_result"
    }
   ],
   "source": [
    "# camera\n",
    "regex= r'\\d+MP'\n",
    "df['Camera'] = df['Feature'].apply(lambda x : re.findall(regex, str(x)))\n",
    "df.head()"
   ]
  },
  {
   "cell_type": "code",
   "execution_count": 160,
   "metadata": {},
   "outputs": [
    {
     "data": {
      "text/html": [
       "<div>\n",
       "<style scoped>\n",
       "    .dataframe tbody tr th:only-of-type {\n",
       "        vertical-align: middle;\n",
       "    }\n",
       "\n",
       "    .dataframe tbody tr th {\n",
       "        vertical-align: top;\n",
       "    }\n",
       "\n",
       "    .dataframe thead th {\n",
       "        text-align: right;\n",
       "    }\n",
       "</style>\n",
       "<table border=\"1\" class=\"dataframe\">\n",
       "  <thead>\n",
       "    <tr style=\"text-align: right;\">\n",
       "      <th></th>\n",
       "      <th>Product</th>\n",
       "      <th>Rating</th>\n",
       "      <th>MRP</th>\n",
       "      <th>Feature</th>\n",
       "      <th>RAM</th>\n",
       "      <th>ROM</th>\n",
       "      <th>Expandable</th>\n",
       "      <th>Camera</th>\n",
       "      <th>Brand</th>\n",
       "    </tr>\n",
       "  </thead>\n",
       "  <tbody>\n",
       "    <tr>\n",
       "      <th>475</th>\n",
       "      <td>Tecno Pop 5 LTE (Turquoise Cyan, 32 GB)</td>\n",
       "      <td>4.2</td>\n",
       "      <td>₹6,683</td>\n",
       "      <td>2 GB RAM | 32 GB ROM | Expandable Upto 256 GB1...</td>\n",
       "      <td>[2 GB RAM]</td>\n",
       "      <td>[32 GB ROM]</td>\n",
       "      <td>[Expandable Upto 256 GB]</td>\n",
       "      <td>[8MP, 5MP]</td>\n",
       "      <td>[Tecno]</td>\n",
       "    </tr>\n",
       "    <tr>\n",
       "      <th>476</th>\n",
       "      <td>SAMSUNG M53 5G (Emerald Brown, 128 GB)</td>\n",
       "      <td>4.6</td>\n",
       "      <td>₹25,900</td>\n",
       "      <td>8 GB RAM | 128 GB ROM17.02 cm (6.7 inch) Displ...</td>\n",
       "      <td>[8 GB RAM]</td>\n",
       "      <td>[128 GB ROM]</td>\n",
       "      <td>[]</td>\n",
       "      <td>[108MP]</td>\n",
       "      <td>[SAMSUNG]</td>\n",
       "    </tr>\n",
       "    <tr>\n",
       "      <th>477</th>\n",
       "      <td>vivo V25 Pro 5G (Pure Black, 128 GB)</td>\n",
       "      <td>4.4</td>\n",
       "      <td>₹35,999</td>\n",
       "      <td>8 GB RAM | 128 GB ROM16.66 cm (6.56 inch) Full...</td>\n",
       "      <td>[8 GB RAM]</td>\n",
       "      <td>[128 GB ROM]</td>\n",
       "      <td>[]</td>\n",
       "      <td>[64MP, 8MP, 2MP, 32MP]</td>\n",
       "      <td>[vivo]</td>\n",
       "    </tr>\n",
       "    <tr>\n",
       "      <th>478</th>\n",
       "      <td>vivo V25 Pro 5G (Pure Black, 256 GB)</td>\n",
       "      <td>4.4</td>\n",
       "      <td>₹39,999</td>\n",
       "      <td>12 GB RAM | 256 GB ROM16.66 cm (6.56 inch) Ful...</td>\n",
       "      <td>[12 GB RAM]</td>\n",
       "      <td>[256 GB ROM]</td>\n",
       "      <td>[]</td>\n",
       "      <td>[64MP, 8MP, 2MP, 32MP]</td>\n",
       "      <td>[vivo]</td>\n",
       "    </tr>\n",
       "    <tr>\n",
       "      <th>479</th>\n",
       "      <td>OPPO F19 Pro (Crystal Silver, 256 GB)</td>\n",
       "      <td>4.3</td>\n",
       "      <td>₹18,990</td>\n",
       "      <td>8 GB RAM | 256 GB ROM | Expandable Upto 256 GB...</td>\n",
       "      <td>[8 GB RAM]</td>\n",
       "      <td>[256 GB ROM]</td>\n",
       "      <td>[Expandable Upto 256 GB]</td>\n",
       "      <td>[48MP, 8MP, 2MP, 2MP, 16MP]</td>\n",
       "      <td>[OPPO]</td>\n",
       "    </tr>\n",
       "  </tbody>\n",
       "</table>\n",
       "</div>"
      ],
      "text/plain": [
       "                                     Product  Rating      MRP  \\\n",
       "475  Tecno Pop 5 LTE (Turquoise Cyan, 32 GB)     4.2   ₹6,683   \n",
       "476   SAMSUNG M53 5G (Emerald Brown, 128 GB)     4.6  ₹25,900   \n",
       "477     vivo V25 Pro 5G (Pure Black, 128 GB)     4.4  ₹35,999   \n",
       "478     vivo V25 Pro 5G (Pure Black, 256 GB)     4.4  ₹39,999   \n",
       "479    OPPO F19 Pro (Crystal Silver, 256 GB)     4.3  ₹18,990   \n",
       "\n",
       "                                               Feature          RAM  \\\n",
       "475  2 GB RAM | 32 GB ROM | Expandable Upto 256 GB1...   [2 GB RAM]   \n",
       "476  8 GB RAM | 128 GB ROM17.02 cm (6.7 inch) Displ...   [8 GB RAM]   \n",
       "477  8 GB RAM | 128 GB ROM16.66 cm (6.56 inch) Full...   [8 GB RAM]   \n",
       "478  12 GB RAM | 256 GB ROM16.66 cm (6.56 inch) Ful...  [12 GB RAM]   \n",
       "479  8 GB RAM | 256 GB ROM | Expandable Upto 256 GB...   [8 GB RAM]   \n",
       "\n",
       "              ROM                Expandable                       Camera  \\\n",
       "475   [32 GB ROM]  [Expandable Upto 256 GB]                   [8MP, 5MP]   \n",
       "476  [128 GB ROM]                        []                      [108MP]   \n",
       "477  [128 GB ROM]                        []       [64MP, 8MP, 2MP, 32MP]   \n",
       "478  [256 GB ROM]                        []       [64MP, 8MP, 2MP, 32MP]   \n",
       "479  [256 GB ROM]  [Expandable Upto 256 GB]  [48MP, 8MP, 2MP, 2MP, 16MP]   \n",
       "\n",
       "         Brand  \n",
       "475    [Tecno]  \n",
       "476  [SAMSUNG]  \n",
       "477     [vivo]  \n",
       "478     [vivo]  \n",
       "479     [OPPO]  "
      ]
     },
     "execution_count": 160,
     "metadata": {},
     "output_type": "execute_result"
    }
   ],
   "source": [
    "# Brand\n",
    "\n",
    "regex = r'^\\w+'\n",
    "\n",
    "df['Brand'] = df['Product'].apply(lambda x : re.findall(regex, x))\n",
    "df.tail()"
   ]
  },
  {
   "cell_type": "markdown",
   "metadata": {},
   "source": [
    "### cleaning the data"
   ]
  },
  {
   "cell_type": "code",
   "execution_count": 161,
   "metadata": {},
   "outputs": [
    {
     "name": "stdout",
     "output_type": "stream",
     "text": [
      "<class 'pandas.core.frame.DataFrame'>\n",
      "RangeIndex: 480 entries, 0 to 479\n",
      "Data columns (total 9 columns):\n",
      " #   Column      Non-Null Count  Dtype  \n",
      "---  ------      --------------  -----  \n",
      " 0   Product     480 non-null    object \n",
      " 1   Rating      475 non-null    float64\n",
      " 2   MRP         480 non-null    object \n",
      " 3   Feature     480 non-null    object \n",
      " 4   RAM         480 non-null    object \n",
      " 5   ROM         480 non-null    object \n",
      " 6   Expandable  480 non-null    object \n",
      " 7   Camera      480 non-null    object \n",
      " 8   Brand       480 non-null    object \n",
      "dtypes: float64(1), object(8)\n",
      "memory usage: 33.9+ KB\n"
     ]
    }
   ],
   "source": [
    "df.info()"
   ]
  },
  {
   "cell_type": "code",
   "execution_count": 162,
   "metadata": {},
   "outputs": [
    {
     "data": {
      "text/plain": [
       "Product       0\n",
       "Rating        5\n",
       "MRP           0\n",
       "Feature       0\n",
       "RAM           0\n",
       "ROM           0\n",
       "Expandable    0\n",
       "Camera        0\n",
       "Brand         0\n",
       "dtype: int64"
      ]
     },
     "execution_count": 162,
     "metadata": {},
     "output_type": "execute_result"
    }
   ],
   "source": [
    "# Missing Values\n",
    "\n",
    "df.isnull().sum()"
   ]
  },
  {
   "cell_type": "code",
   "execution_count": 164,
   "metadata": {},
   "outputs": [
    {
     "data": {
      "text/html": [
       "<div>\n",
       "<style scoped>\n",
       "    .dataframe tbody tr th:only-of-type {\n",
       "        vertical-align: middle;\n",
       "    }\n",
       "\n",
       "    .dataframe tbody tr th {\n",
       "        vertical-align: top;\n",
       "    }\n",
       "\n",
       "    .dataframe thead th {\n",
       "        text-align: right;\n",
       "    }\n",
       "</style>\n",
       "<table border=\"1\" class=\"dataframe\">\n",
       "  <thead>\n",
       "    <tr style=\"text-align: right;\">\n",
       "      <th></th>\n",
       "      <th>Product</th>\n",
       "      <th>Rating</th>\n",
       "      <th>MRP</th>\n",
       "      <th>Feature</th>\n",
       "      <th>RAM</th>\n",
       "      <th>ROM</th>\n",
       "      <th>Expandable</th>\n",
       "      <th>Camera</th>\n",
       "      <th>Brand</th>\n",
       "    </tr>\n",
       "  </thead>\n",
       "  <tbody>\n",
       "    <tr>\n",
       "      <th>0</th>\n",
       "      <td>SAMSUNG Galaxy F13 (Nightsky Green, 64 GB)</td>\n",
       "      <td>4.4</td>\n",
       "      <td>₹9,499</td>\n",
       "      <td>4 GB RAM | 64 GB ROM | Expandable Upto 1 TB16....</td>\n",
       "      <td>4 GB RAM</td>\n",
       "      <td>64 GB ROM</td>\n",
       "      <td>Expandable Upto 1 TB</td>\n",
       "      <td>50MP5MP2MP8MP</td>\n",
       "      <td>SAMSUNG</td>\n",
       "    </tr>\n",
       "    <tr>\n",
       "      <th>1</th>\n",
       "      <td>SAMSUNG Galaxy F13 (Waterfall Blue, 64 GB)</td>\n",
       "      <td>4.4</td>\n",
       "      <td>₹9,499</td>\n",
       "      <td>4 GB RAM | 64 GB ROM | Expandable Upto 1 TB16....</td>\n",
       "      <td>4 GB RAM</td>\n",
       "      <td>64 GB ROM</td>\n",
       "      <td>Expandable Upto 1 TB</td>\n",
       "      <td>50MP5MP2MP8MP</td>\n",
       "      <td>SAMSUNG</td>\n",
       "    </tr>\n",
       "    <tr>\n",
       "      <th>2</th>\n",
       "      <td>APPLE iPhone 11 (Black, 128 GB)</td>\n",
       "      <td>4.6</td>\n",
       "      <td>₹41,990</td>\n",
       "      <td>128 GB ROM15.49 cm (6.1 inch) Liquid Retina HD...</td>\n",
       "      <td></td>\n",
       "      <td>128 GB ROM</td>\n",
       "      <td></td>\n",
       "      <td>12MP12MP12MP</td>\n",
       "      <td>APPLE</td>\n",
       "    </tr>\n",
       "    <tr>\n",
       "      <th>3</th>\n",
       "      <td>IAIR D25</td>\n",
       "      <td>4.1</td>\n",
       "      <td>₹1,098</td>\n",
       "      <td>32 MB RAM | 32 MB ROM4.32 cm (1.7 inch) Displa...</td>\n",
       "      <td>32 MB RAM</td>\n",
       "      <td>32 MB ROM</td>\n",
       "      <td></td>\n",
       "      <td>8MP</td>\n",
       "      <td>IAIR</td>\n",
       "    </tr>\n",
       "    <tr>\n",
       "      <th>4</th>\n",
       "      <td>SAMSUNG Galaxy F13 (Sunrise Copper, 64 GB)</td>\n",
       "      <td>4.4</td>\n",
       "      <td>₹9,499</td>\n",
       "      <td>4 GB RAM | 64 GB ROM | Expandable Upto 1 TB16....</td>\n",
       "      <td>4 GB RAM</td>\n",
       "      <td>64 GB ROM</td>\n",
       "      <td>Expandable Upto 1 TB</td>\n",
       "      <td>50MP5MP2MP8MP</td>\n",
       "      <td>SAMSUNG</td>\n",
       "    </tr>\n",
       "  </tbody>\n",
       "</table>\n",
       "</div>"
      ],
      "text/plain": [
       "                                      Product  Rating      MRP  \\\n",
       "0  SAMSUNG Galaxy F13 (Nightsky Green, 64 GB)     4.4   ₹9,499   \n",
       "1  SAMSUNG Galaxy F13 (Waterfall Blue, 64 GB)     4.4   ₹9,499   \n",
       "2             APPLE iPhone 11 (Black, 128 GB)     4.6  ₹41,990   \n",
       "3                                    IAIR D25     4.1   ₹1,098   \n",
       "4  SAMSUNG Galaxy F13 (Sunrise Copper, 64 GB)     4.4   ₹9,499   \n",
       "\n",
       "                                             Feature        RAM         ROM  \\\n",
       "0  4 GB RAM | 64 GB ROM | Expandable Upto 1 TB16....   4 GB RAM   64 GB ROM   \n",
       "1  4 GB RAM | 64 GB ROM | Expandable Upto 1 TB16....   4 GB RAM   64 GB ROM   \n",
       "2  128 GB ROM15.49 cm (6.1 inch) Liquid Retina HD...             128 GB ROM   \n",
       "3  32 MB RAM | 32 MB ROM4.32 cm (1.7 inch) Displa...  32 MB RAM   32 MB ROM   \n",
       "4  4 GB RAM | 64 GB ROM | Expandable Upto 1 TB16....   4 GB RAM   64 GB ROM   \n",
       "\n",
       "             Expandable         Camera    Brand  \n",
       "0  Expandable Upto 1 TB  50MP5MP2MP8MP  SAMSUNG  \n",
       "1  Expandable Upto 1 TB  50MP5MP2MP8MP  SAMSUNG  \n",
       "2                         12MP12MP12MP    APPLE  \n",
       "3                                  8MP     IAIR  \n",
       "4  Expandable Upto 1 TB  50MP5MP2MP8MP  SAMSUNG  "
      ]
     },
     "execution_count": 164,
     "metadata": {},
     "output_type": "execute_result"
    }
   ],
   "source": [
    "df.RAM = df.RAM.apply(lambda x : ''.join(x))\n",
    "df.ROM = df.ROM.apply(lambda x : ''.join(x))\n",
    "df.Expandable = df.Expandable.apply(lambda x : ''.join(x))\n",
    "df.Camera = df.Camera.apply(lambda x : ''.join(x))\n",
    "df.Brand = df.Brand.apply(lambda x : ''.join(x))\n",
    "df.head()"
   ]
  },
  {
   "cell_type": "code",
   "execution_count": 165,
   "metadata": {},
   "outputs": [
    {
     "data": {
      "text/html": [
       "<div>\n",
       "<style scoped>\n",
       "    .dataframe tbody tr th:only-of-type {\n",
       "        vertical-align: middle;\n",
       "    }\n",
       "\n",
       "    .dataframe tbody tr th {\n",
       "        vertical-align: top;\n",
       "    }\n",
       "\n",
       "    .dataframe thead th {\n",
       "        text-align: right;\n",
       "    }\n",
       "</style>\n",
       "<table border=\"1\" class=\"dataframe\">\n",
       "  <thead>\n",
       "    <tr style=\"text-align: right;\">\n",
       "      <th></th>\n",
       "      <th>Product</th>\n",
       "      <th>Rating</th>\n",
       "      <th>MRP</th>\n",
       "      <th>Feature</th>\n",
       "      <th>RAM</th>\n",
       "      <th>ROM</th>\n",
       "      <th>Expandable</th>\n",
       "      <th>Camera</th>\n",
       "      <th>Brand</th>\n",
       "    </tr>\n",
       "  </thead>\n",
       "  <tbody>\n",
       "    <tr>\n",
       "      <th>0</th>\n",
       "      <td>SAMSUNG Galaxy F13 (Nightsky Green, 64 GB)</td>\n",
       "      <td>4.4</td>\n",
       "      <td>9499.0</td>\n",
       "      <td>4 GB RAM | 64 GB ROM | Expandable Upto 1 TB16....</td>\n",
       "      <td>4 GB RAM</td>\n",
       "      <td>64 GB ROM</td>\n",
       "      <td>Expandable Upto 1 TB</td>\n",
       "      <td>50MP5MP2MP8MP</td>\n",
       "      <td>SAMSUNG</td>\n",
       "    </tr>\n",
       "    <tr>\n",
       "      <th>1</th>\n",
       "      <td>SAMSUNG Galaxy F13 (Waterfall Blue, 64 GB)</td>\n",
       "      <td>4.4</td>\n",
       "      <td>9499.0</td>\n",
       "      <td>4 GB RAM | 64 GB ROM | Expandable Upto 1 TB16....</td>\n",
       "      <td>4 GB RAM</td>\n",
       "      <td>64 GB ROM</td>\n",
       "      <td>Expandable Upto 1 TB</td>\n",
       "      <td>50MP5MP2MP8MP</td>\n",
       "      <td>SAMSUNG</td>\n",
       "    </tr>\n",
       "    <tr>\n",
       "      <th>2</th>\n",
       "      <td>APPLE iPhone 11 (Black, 128 GB)</td>\n",
       "      <td>4.6</td>\n",
       "      <td>41990.0</td>\n",
       "      <td>128 GB ROM15.49 cm (6.1 inch) Liquid Retina HD...</td>\n",
       "      <td></td>\n",
       "      <td>128 GB ROM</td>\n",
       "      <td></td>\n",
       "      <td>12MP12MP12MP</td>\n",
       "      <td>APPLE</td>\n",
       "    </tr>\n",
       "    <tr>\n",
       "      <th>3</th>\n",
       "      <td>IAIR D25</td>\n",
       "      <td>4.1</td>\n",
       "      <td>1098.0</td>\n",
       "      <td>32 MB RAM | 32 MB ROM4.32 cm (1.7 inch) Displa...</td>\n",
       "      <td>32 MB RAM</td>\n",
       "      <td>32 MB ROM</td>\n",
       "      <td></td>\n",
       "      <td>8MP</td>\n",
       "      <td>IAIR</td>\n",
       "    </tr>\n",
       "    <tr>\n",
       "      <th>4</th>\n",
       "      <td>SAMSUNG Galaxy F13 (Sunrise Copper, 64 GB)</td>\n",
       "      <td>4.4</td>\n",
       "      <td>9499.0</td>\n",
       "      <td>4 GB RAM | 64 GB ROM | Expandable Upto 1 TB16....</td>\n",
       "      <td>4 GB RAM</td>\n",
       "      <td>64 GB ROM</td>\n",
       "      <td>Expandable Upto 1 TB</td>\n",
       "      <td>50MP5MP2MP8MP</td>\n",
       "      <td>SAMSUNG</td>\n",
       "    </tr>\n",
       "  </tbody>\n",
       "</table>\n",
       "</div>"
      ],
      "text/plain": [
       "                                      Product  Rating      MRP  \\\n",
       "0  SAMSUNG Galaxy F13 (Nightsky Green, 64 GB)     4.4   9499.0   \n",
       "1  SAMSUNG Galaxy F13 (Waterfall Blue, 64 GB)     4.4   9499.0   \n",
       "2             APPLE iPhone 11 (Black, 128 GB)     4.6  41990.0   \n",
       "3                                    IAIR D25     4.1   1098.0   \n",
       "4  SAMSUNG Galaxy F13 (Sunrise Copper, 64 GB)     4.4   9499.0   \n",
       "\n",
       "                                             Feature        RAM         ROM  \\\n",
       "0  4 GB RAM | 64 GB ROM | Expandable Upto 1 TB16....   4 GB RAM   64 GB ROM   \n",
       "1  4 GB RAM | 64 GB ROM | Expandable Upto 1 TB16....   4 GB RAM   64 GB ROM   \n",
       "2  128 GB ROM15.49 cm (6.1 inch) Liquid Retina HD...             128 GB ROM   \n",
       "3  32 MB RAM | 32 MB ROM4.32 cm (1.7 inch) Displa...  32 MB RAM   32 MB ROM   \n",
       "4  4 GB RAM | 64 GB ROM | Expandable Upto 1 TB16....   4 GB RAM   64 GB ROM   \n",
       "\n",
       "             Expandable         Camera    Brand  \n",
       "0  Expandable Upto 1 TB  50MP5MP2MP8MP  SAMSUNG  \n",
       "1  Expandable Upto 1 TB  50MP5MP2MP8MP  SAMSUNG  \n",
       "2                         12MP12MP12MP    APPLE  \n",
       "3                                  8MP     IAIR  \n",
       "4  Expandable Upto 1 TB  50MP5MP2MP8MP  SAMSUNG  "
      ]
     },
     "execution_count": 165,
     "metadata": {},
     "output_type": "execute_result"
    }
   ],
   "source": [
    "df.MRP = df.MRP.apply(lambda x : x.replace('₹', '').replace(',', '')).astype(float)\n",
    "df.head()"
   ]
  },
  {
   "cell_type": "code",
   "execution_count": 166,
   "metadata": {},
   "outputs": [
    {
     "name": "stdout",
     "output_type": "stream",
     "text": [
      "<class 'pandas.core.frame.DataFrame'>\n",
      "RangeIndex: 480 entries, 0 to 479\n",
      "Data columns (total 9 columns):\n",
      " #   Column      Non-Null Count  Dtype  \n",
      "---  ------      --------------  -----  \n",
      " 0   Product     480 non-null    object \n",
      " 1   Rating      475 non-null    float64\n",
      " 2   MRP         480 non-null    float64\n",
      " 3   Feature     480 non-null    object \n",
      " 4   RAM         480 non-null    object \n",
      " 5   ROM         480 non-null    object \n",
      " 6   Expandable  480 non-null    object \n",
      " 7   Camera      480 non-null    object \n",
      " 8   Brand       480 non-null    object \n",
      "dtypes: float64(2), object(7)\n",
      "memory usage: 33.9+ KB\n"
     ]
    }
   ],
   "source": [
    "df.info()"
   ]
  },
  {
   "cell_type": "markdown",
   "metadata": {},
   "source": [
    "DATA VISUALIZATION"
   ]
  },
  {
   "cell_type": "code",
   "execution_count": 167,
   "metadata": {},
   "outputs": [],
   "source": [
    "import matplotlib.pyplot as plt\n",
    "import seaborn as sns"
   ]
  },
  {
   "cell_type": "code",
   "execution_count": 176,
   "metadata": {},
   "outputs": [
    {
     "data": {
      "text/plain": [
       "<AxesSubplot:xlabel='Brand', ylabel='MRP'>"
      ]
     },
     "execution_count": 176,
     "metadata": {},
     "output_type": "execute_result"
    },
    {
     "data": {
      "image/png": "[encoded data removed]",
      "text/plain": [
       "<Figure size 2500x1500 with 1 Axes>"
      ]
     },
     "metadata": {},
     "output_type": "display_data"
    }
   ],
   "source": [
    "plt.figure(figsize=(25, 15))\n",
    "sns.boxplot(x = df.Brand, y = df.MRP)"
   ]
  },
  {
   "cell_type": "code",
   "execution_count": 169,
   "metadata": {},
   "outputs": [
    {
     "data": {
      "text/plain": [
       "<seaborn.axisgrid.FacetGrid at 0x25759b8a350>"
      ]
     },
     "execution_count": 169,
     "metadata": {},
     "output_type": "execute_result"
    },
    {
     "data": {
      "image/png": "[encoded data removed]",
      "text/plain": [
       "<Figure size 500x500 with 1 Axes>"
      ]
     },
     "metadata": {},
     "output_type": "display_data"
    }
   ],
   "source": [
    "g = sns.displot(df.MRP, kind='kde')\n",
    "g.set_xticklabels(rotation=45)"
   ]
  },
  {
   "cell_type": "code",
   "execution_count": 174,
   "metadata": {},
   "outputs": [
    {
     "data": {
      "text/plain": [
       "<AxesSubplot:xlabel='Brand', ylabel='count'>"
      ]
     },
     "execution_count": 174,
     "metadata": {},
     "output_type": "execute_result"
    },
    {
     "data": {
      "image/png": "[encoded data removed]",
      "text/plain": [
       "<Figure size 2500x1500 with 1 Axes>"
      ]
     },
     "metadata": {},
     "output_type": "display_data"
    }
   ],
   "source": [
    "plt.figure(figsize=(25, 15))\n",
    "sns.countplot(x=df.Brand)"
   ]
  },
  {
   "cell_type": "markdown",
   "metadata": {},
   "source": [
    "Observation - The above plot show us the count for each product. We can see that IAIR is having highest number of product listing on Flipkart website"
   ]
  },
  {
   "cell_type": "code",
   "execution_count": 177,
   "metadata": {},
   "outputs": [
    {
     "data": {
      "text/html": [
       "<div>\n",
       "<style scoped>\n",
       "    .dataframe tbody tr th:only-of-type {\n",
       "        vertical-align: middle;\n",
       "    }\n",
       "\n",
       "    .dataframe tbody tr th {\n",
       "        vertical-align: top;\n",
       "    }\n",
       "\n",
       "    .dataframe thead tr th {\n",
       "        text-align: left;\n",
       "    }\n",
       "\n",
       "    .dataframe thead tr:last-of-type th {\n",
       "        text-align: right;\n",
       "    }\n",
       "</style>\n",
       "<table border=\"1\" class=\"dataframe\">\n",
       "  <thead>\n",
       "    <tr>\n",
       "      <th></th>\n",
       "      <th colspan=\"3\" halign=\"left\">MRP</th>\n",
       "    </tr>\n",
       "    <tr>\n",
       "      <th></th>\n",
       "      <th>min</th>\n",
       "      <th>max</th>\n",
       "      <th>mean</th>\n",
       "    </tr>\n",
       "    <tr>\n",
       "      <th>Brand</th>\n",
       "      <th></th>\n",
       "      <th></th>\n",
       "      <th></th>\n",
       "    </tr>\n",
       "  </thead>\n",
       "  <tbody>\n",
       "    <tr>\n",
       "      <th>APPLE</th>\n",
       "      <td>35990.0</td>\n",
       "      <td>109990.0</td>\n",
       "      <td>53816.086957</td>\n",
       "    </tr>\n",
       "    <tr>\n",
       "      <th>BlackZone</th>\n",
       "      <td>1380.0</td>\n",
       "      <td>1439.0</td>\n",
       "      <td>1409.500000</td>\n",
       "    </tr>\n",
       "    <tr>\n",
       "      <th>Cellecor</th>\n",
       "      <td>1179.0</td>\n",
       "      <td>1459.0</td>\n",
       "      <td>1319.000000</td>\n",
       "    </tr>\n",
       "    <tr>\n",
       "      <th>DIZO</th>\n",
       "      <td>1599.0</td>\n",
       "      <td>1799.0</td>\n",
       "      <td>1699.000000</td>\n",
       "    </tr>\n",
       "    <tr>\n",
       "      <th>IAIR</th>\n",
       "      <td>1072.0</td>\n",
       "      <td>1319.0</td>\n",
       "      <td>1134.712644</td>\n",
       "    </tr>\n",
       "    <tr>\n",
       "      <th>IQOO</th>\n",
       "      <td>16999.0</td>\n",
       "      <td>18399.0</td>\n",
       "      <td>17699.000000</td>\n",
       "    </tr>\n",
       "    <tr>\n",
       "      <th>Infinix</th>\n",
       "      <td>6199.0</td>\n",
       "      <td>11999.0</td>\n",
       "      <td>9224.000000</td>\n",
       "    </tr>\n",
       "    <tr>\n",
       "      <th>Itel</th>\n",
       "      <td>929.0</td>\n",
       "      <td>6190.0</td>\n",
       "      <td>2018.000000</td>\n",
       "    </tr>\n",
       "    <tr>\n",
       "      <th>KARBONN</th>\n",
       "      <td>1890.0</td>\n",
       "      <td>1890.0</td>\n",
       "      <td>1890.000000</td>\n",
       "    </tr>\n",
       "    <tr>\n",
       "      <th>Kechaoda</th>\n",
       "      <td>1074.0</td>\n",
       "      <td>1625.0</td>\n",
       "      <td>1249.250000</td>\n",
       "    </tr>\n",
       "    <tr>\n",
       "      <th>LAVA</th>\n",
       "      <td>900.0</td>\n",
       "      <td>7999.0</td>\n",
       "      <td>1923.200000</td>\n",
       "    </tr>\n",
       "    <tr>\n",
       "      <th>MOTOROLA</th>\n",
       "      <td>8999.0</td>\n",
       "      <td>26999.0</td>\n",
       "      <td>14884.416667</td>\n",
       "    </tr>\n",
       "    <tr>\n",
       "      <th>MarQ</th>\n",
       "      <td>799.0</td>\n",
       "      <td>899.0</td>\n",
       "      <td>874.000000</td>\n",
       "    </tr>\n",
       "    <tr>\n",
       "      <th>Micromax</th>\n",
       "      <td>915.0</td>\n",
       "      <td>1472.0</td>\n",
       "      <td>1024.142857</td>\n",
       "    </tr>\n",
       "    <tr>\n",
       "      <th>Moto</th>\n",
       "      <td>15999.0</td>\n",
       "      <td>15999.0</td>\n",
       "      <td>15999.000000</td>\n",
       "    </tr>\n",
       "    <tr>\n",
       "      <th>Motorola</th>\n",
       "      <td>1299.0</td>\n",
       "      <td>1579.0</td>\n",
       "      <td>1425.666667</td>\n",
       "    </tr>\n",
       "    <tr>\n",
       "      <th>Nokia</th>\n",
       "      <td>1199.0</td>\n",
       "      <td>3659.0</td>\n",
       "      <td>2092.666667</td>\n",
       "    </tr>\n",
       "    <tr>\n",
       "      <th>Nothing</th>\n",
       "      <td>29999.0</td>\n",
       "      <td>32999.0</td>\n",
       "      <td>31499.000000</td>\n",
       "    </tr>\n",
       "    <tr>\n",
       "      <th>Nuvo</th>\n",
       "      <td>899.0</td>\n",
       "      <td>899.0</td>\n",
       "      <td>899.000000</td>\n",
       "    </tr>\n",
       "    <tr>\n",
       "      <th>OPPO</th>\n",
       "      <td>7990.0</td>\n",
       "      <td>29999.0</td>\n",
       "      <td>16781.230769</td>\n",
       "    </tr>\n",
       "    <tr>\n",
       "      <th>POCO</th>\n",
       "      <td>6499.0</td>\n",
       "      <td>29999.0</td>\n",
       "      <td>14531.432432</td>\n",
       "    </tr>\n",
       "    <tr>\n",
       "      <th>REDMI</th>\n",
       "      <td>6699.0</td>\n",
       "      <td>17999.0</td>\n",
       "      <td>11380.857143</td>\n",
       "    </tr>\n",
       "    <tr>\n",
       "      <th>Realme</th>\n",
       "      <td>5360.0</td>\n",
       "      <td>5749.0</td>\n",
       "      <td>5554.500000</td>\n",
       "    </tr>\n",
       "    <tr>\n",
       "      <th>Redmi</th>\n",
       "      <td>6732.0</td>\n",
       "      <td>12520.0</td>\n",
       "      <td>8598.250000</td>\n",
       "    </tr>\n",
       "    <tr>\n",
       "      <th>SAMSUNG</th>\n",
       "      <td>1299.0</td>\n",
       "      <td>69999.0</td>\n",
       "      <td>15631.472222</td>\n",
       "    </tr>\n",
       "    <tr>\n",
       "      <th>Tecno</th>\n",
       "      <td>6675.0</td>\n",
       "      <td>6697.0</td>\n",
       "      <td>6685.000000</td>\n",
       "    </tr>\n",
       "    <tr>\n",
       "      <th>Xiaomi</th>\n",
       "      <td>24999.0</td>\n",
       "      <td>26999.0</td>\n",
       "      <td>26499.000000</td>\n",
       "    </tr>\n",
       "    <tr>\n",
       "      <th>realme</th>\n",
       "      <td>6110.0</td>\n",
       "      <td>57999.0</td>\n",
       "      <td>16403.985714</td>\n",
       "    </tr>\n",
       "    <tr>\n",
       "      <th>vivo</th>\n",
       "      <td>9499.0</td>\n",
       "      <td>39999.0</td>\n",
       "      <td>19045.593750</td>\n",
       "    </tr>\n",
       "  </tbody>\n",
       "</table>\n",
       "</div>"
      ],
      "text/plain": [
       "               MRP                        \n",
       "               min       max          mean\n",
       "Brand                                     \n",
       "APPLE      35990.0  109990.0  53816.086957\n",
       "BlackZone   1380.0    1439.0   1409.500000\n",
       "Cellecor    1179.0    1459.0   1319.000000\n",
       "DIZO        1599.0    1799.0   1699.000000\n",
       "IAIR        1072.0    1319.0   1134.712644\n",
       "IQOO       16999.0   18399.0  17699.000000\n",
       "Infinix     6199.0   11999.0   9224.000000\n",
       "Itel         929.0    6190.0   2018.000000\n",
       "KARBONN     1890.0    1890.0   1890.000000\n",
       "Kechaoda    1074.0    1625.0   1249.250000\n",
       "LAVA         900.0    7999.0   1923.200000\n",
       "MOTOROLA    8999.0   26999.0  14884.416667\n",
       "MarQ         799.0     899.0    874.000000\n",
       "Micromax     915.0    1472.0   1024.142857\n",
       "Moto       15999.0   15999.0  15999.000000\n",
       "Motorola    1299.0    1579.0   1425.666667\n",
       "Nokia       1199.0    3659.0   2092.666667\n",
       "Nothing    29999.0   32999.0  31499.000000\n",
       "Nuvo         899.0     899.0    899.000000\n",
       "OPPO        7990.0   29999.0  16781.230769\n",
       "POCO        6499.0   29999.0  14531.432432\n",
       "REDMI       6699.0   17999.0  11380.857143\n",
       "Realme      5360.0    5749.0   5554.500000\n",
       "Redmi       6732.0   12520.0   8598.250000\n",
       "SAMSUNG     1299.0   69999.0  15631.472222\n",
       "Tecno       6675.0    6697.0   6685.000000\n",
       "Xiaomi     24999.0   26999.0  26499.000000\n",
       "realme      6110.0   57999.0  16403.985714\n",
       "vivo        9499.0   39999.0  19045.593750"
      ]
     },
     "execution_count": 177,
     "metadata": {},
     "output_type": "execute_result"
    }
   ],
   "source": [
    "df.groupby(['Brand']).agg({'MRP' : ['min', 'max', 'mean']})"
   ]
  },
  {
   "cell_type": "code",
   "execution_count": 178,
   "metadata": {},
   "outputs": [
    {
     "data": {
      "text/plain": [
       "<AxesSubplot:xlabel='Brand'>"
      ]
     },
     "execution_count": 178,
     "metadata": {},
     "output_type": "execute_result"
    },
    {
     "data": {
      "image/png": "[encoded data removed]",
      "text/plain": [
       "<Figure size 2500x1500 with 1 Axes>"
      ]
     },
     "metadata": {},
     "output_type": "display_data"
    }
   ],
   "source": [
    "plt.figure(figsize=(25, 15))\n",
    "df.groupby(['Brand'])['MRP'].max().plot(kind = 'bar')"
   ]
  },
  {
   "cell_type": "markdown",
   "metadata": {},
   "source": [
    "Observation: Apple has highest price among all the brands"
   ]
  },
  {
   "cell_type": "code",
   "execution_count": 182,
   "metadata": {},
   "outputs": [
    {
     "data": {
      "text/plain": [
       "<AxesSubplot:xlabel='Brand'>"
      ]
     },
     "execution_count": 182,
     "metadata": {},
     "output_type": "execute_result"
    },
    {
     "data": {
      "image/png": "[encoded data removed]",
      "text/plain": [
       "<Figure size 2500x1500 with 1 Axes>"
      ]
     },
     "metadata": {},
     "output_type": "display_data"
    }
   ],
   "source": [
    "plt.figure(figsize=(25, 15))\n",
    "df.groupby(['Brand'])['MRP'].min().plot(kind = 'bar')\n"
   ]
  },
  {
   "cell_type": "code",
   "execution_count": 183,
   "metadata": {},
   "outputs": [
    {
     "data": {
      "text/plain": [
       "Brand\n",
       "APPLE        35990.0\n",
       "BlackZone     1380.0\n",
       "Cellecor      1179.0\n",
       "DIZO          1599.0\n",
       "IAIR          1072.0\n",
       "IQOO         16999.0\n",
       "Infinix       6199.0\n",
       "Itel           929.0\n",
       "KARBONN       1890.0\n",
       "Kechaoda      1074.0\n",
       "LAVA           900.0\n",
       "MOTOROLA      8999.0\n",
       "MarQ           799.0\n",
       "Micromax       915.0\n",
       "Moto         15999.0\n",
       "Motorola      1299.0\n",
       "Nokia         1199.0\n",
       "Nothing      29999.0\n",
       "Nuvo           899.0\n",
       "OPPO          7990.0\n",
       "POCO          6499.0\n",
       "REDMI         6699.0\n",
       "Realme        5360.0\n",
       "Redmi         6732.0\n",
       "SAMSUNG       1299.0\n",
       "Tecno         6675.0\n",
       "Xiaomi       24999.0\n",
       "realme        6110.0\n",
       "vivo          9499.0\n",
       "Name: MRP, dtype: float64"
      ]
     },
     "execution_count": 183,
     "metadata": {},
     "output_type": "execute_result"
    }
   ],
   "source": [
    "df.groupby(['Brand'])['MRP'].min()"
   ]
  },
  {
   "cell_type": "markdown",
   "metadata": {},
   "source": [
    "marq has minimum price"
   ]
  }
 ],
 "metadata": {
  "kernelspec": {
   "display_name": "Python 3.10.6 64-bit",
   "language": "python",
   "name": "python3"
  },
  "language_info": {
   "codemirror_mode": {
    "name": "ipython",
    "version": 3
   },
   "file_extension": ".py",
   "mimetype": "text/x-python",
   "name": "python",
   "nbconvert_exporter": "python",
   "pygments_lexer": "ipython3",
   "version": "3.10.6"
  },
  "orig_nbformat": 4,
  "vscode": {
   "interpreter": {
    "hash": "63963b3f4c440940f0b94a3100916033a226cb4f45979123153792d60aa56d6a"
   }
  }
 },
 "nbformat": 4,
 "nbformat_minor": 2
}
